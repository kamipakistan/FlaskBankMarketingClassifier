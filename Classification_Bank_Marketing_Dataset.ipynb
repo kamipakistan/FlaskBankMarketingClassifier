{
  "nbformat": 4,
  "nbformat_minor": 0,
  "metadata": {
    "colab": {
      "provenance": [],
      "gpuType": "T4"
    },
    "kernelspec": {
      "name": "python3",
      "display_name": "Python 3"
    },
    "accelerator": "GPU"
  },
  "cells": [
    {
      "cell_type": "markdown",
      "metadata": {
        "id": "xL-Nk3m_eQsX"
      },
      "source": [
        "# Bank Marketing Dataset Analysis\n",
        "\n",
        "In this notebook, we will use the [Bank Marketing Dataset](https://www.kaggle.com/janiobachmann/bank-marketing-dataset) from Kaggle to build a model that predicts whether someone is going to make a deposit or not based on specific attributes. We will explore four different algorithms: Decision Tree, Random Forest, Naive Bayes, and K-Nearest Neighbors.\n",
        "\n",
        "**Dataset and Objective**\n",
        "\n",
        "The Bank Marketing Dataset provides valuable information for our analysis. Our objective is to develop a predictive model using various algorithms and compare their performance to identify the best model for our case.\n",
        "\n",
        "**Model Building**\n",
        "\n",
        "We will follow these steps:\n",
        "\n",
        "1. Load the dataset and perform data preprocessing.\n",
        "2. Build models using Decision Tree, Random Forest, Naive Bayes, and K-Nearest Neighbors algorithms.\n",
        "3. Evaluate the performance of each model using suitable metrics.\n",
        "4. Compare the models to determine the most effective one for our task.\n",
        "\n",
        "**Model Optimization**\n",
        "\n",
        "To improve our model's performance, we will tune its hyperparameters using GridSearch, a powerful optimization technique.\n",
        "\n",
        "**Saving Results and Model**\n",
        "\n",
        "After obtaining the prediction results from our dataset, we will save them for further analysis. Additionally, we will save the chosen model to ensure its reusability without repeating the entire process.\n",
        "\n",
        "## Dependencies\n",
        "\n",
        "To begin, we need to import and configure some essential libraries."
      ]
    },
    {
      "cell_type": "code",
      "metadata": {
        "id": "uI1mGf-RdvlD"
      },
      "source": [
        "# Import libraries\n",
        "## Basic libs\n",
        "import pandas as pd\n",
        "import numpy as np\n",
        "import warnings\n",
        "## Data Visualization\n",
        "import seaborn as sns\n",
        "import matplotlib.pyplot as plt\n",
        "\n",
        "from sklearn.preprocessing import LabelEncoder, OneHotEncoder\n",
        "from sklearn.compose import ColumnTransformer\n",
        "\n",
        "# Configure libraries\n",
        "warnings.filterwarnings('ignore')\n",
        "plt.rcParams['figure.figsize'] = (10, 10)\n",
        "plt.style.use('seaborn')"
      ],
      "execution_count": 82,
      "outputs": []
    },
    {
      "cell_type": "markdown",
      "metadata": {
        "id": "1Ml3cXrzkuZ0"
      },
      "source": [
        "# Data Pre-Processing\n",
        "\n",
        "In order to build our first model, we must first load and pre-process the data. This crucial step ensures that our model receives high-quality data to learn from, as the saying goes, \"a model is only as good as its data.\" The data pre-processing phase will be divided into several steps, as described below.\n"
      ]
    },
    {
      "cell_type": "markdown",
      "metadata": {
        "id": "Yf8uFbzy57qd"
      },
      "source": [
        "## Loading Data\n",
        "\n",
        "In this initial step, we will load our dataset, which has been conveniently uploaded to my GitHub repository to simplify the process. The dataset documentation can be found [here](https://archive.ics.uci.edu/ml/datasets/Bank+Marketing). Below is a list of the columns present in our data:\n",
        "\n",
        "**Input variables:**\n",
        "1. age (numeric)\n",
        "2. job: type of job (categorical: 'admin.', 'blue-collar', 'entrepreneur', 'housemaid', 'management', 'retired', 'self-employed', 'services', 'student', 'technician', 'unemployed', 'unknown')\n",
        "3. marital: marital status (categorical: 'divorced', 'married', 'single', 'unknown'; note: 'divorced' includes divorced or widowed)\n",
        "4. education: level of education (categorical: 'basic.4y', 'basic.6y', 'basic.9y', 'high.school', 'illiterate', 'professional.course', 'university.degree', 'unknown')\n",
        "5. default: has credit in default? (categorical: 'no', 'yes', 'unknown')\n",
        "6. housing: has a housing loan? (categorical: 'no', 'yes', 'unknown')\n",
        "7. loan: has a personal loan? (categorical: 'no', 'yes', 'unknown')\n",
        "8. contact: contact communication type (categorical: 'cellular', 'telephone')\n",
        "9. month: last contact month of the year (categorical: 'jan', 'feb', 'mar', ..., 'nov', 'dec')\n",
        "10. day_of_week: last contact day of the week (categorical: 'mon', 'tue', 'wed', 'thu', 'fri')\n",
        "11. campaign: number of contacts performed during this campaign and for this client (numeric, includes the last contact)\n",
        "12. pdays: number of days that passed by after the client was last contacted from a previous campaign (numeric; 999 means the client was not previously contacted)\n",
        "13. previous: number of contacts performed before this campaign and for this client (numeric)\n",
        "14. poutcome: outcome of the previous marketing campaign (categorical: 'failure', 'nonexistent', 'success')\n",
        "\n",
        "**Output variable (desired target):**\n",
        "21. y: has the client subscribed to a term deposit? (binary: 'yes', 'no')\n",
        "\n",
        "According to the dataset documentation, we need to remove the 'duration' column because, in a real-case scenario, the duration is only known after the label column is known. This issue can be considered as 'data leakage,' where predictors include data that will not be available at the time of making predictions.\n"
      ]
    },
    {
      "cell_type": "code",
      "metadata": {
        "id": "qkY0_i5O586w",
        "colab": {
          "base_uri": "https://localhost:8080/",
          "height": 288
        },
        "outputId": "844552fa-92ec-46e8-cda8-bd332cfa57f7"
      },
      "source": [
        "# Load dataset\n",
        "df_bank = pd.read_csv('https://raw.githubusercontent.com/rafiag/DTI2020/main/data/bank.csv')\n",
        "\n",
        "# Drop 'duration' column\n",
        "df_bank = df_bank.drop('duration', axis=1)\n",
        "\n",
        "# print(df_bank.info())\n",
        "print('Shape of dataframe:', df_bank.shape)\n",
        "df_bank.head()"
      ],
      "execution_count": 83,
      "outputs": [
        {
          "output_type": "stream",
          "name": "stdout",
          "text": [
            "Shape of dataframe: (11162, 16)\n"
          ]
        },
        {
          "output_type": "execute_result",
          "data": {
            "text/plain": [
              "   age         job  marital  education default  balance housing loan  contact  \\\n",
              "0   59      admin.  married  secondary      no     2343     yes   no  unknown   \n",
              "1   56      admin.  married  secondary      no       45      no   no  unknown   \n",
              "2   41  technician  married  secondary      no     1270     yes   no  unknown   \n",
              "3   55    services  married  secondary      no     2476     yes   no  unknown   \n",
              "4   54      admin.  married   tertiary      no      184      no   no  unknown   \n",
              "\n",
              "   day month  campaign  pdays  previous poutcome deposit  \n",
              "0    5   may         1     -1         0  unknown     yes  \n",
              "1    5   may         1     -1         0  unknown     yes  \n",
              "2    5   may         1     -1         0  unknown     yes  \n",
              "3    5   may         1     -1         0  unknown     yes  \n",
              "4    5   may         2     -1         0  unknown     yes  "
            ],
            "text/html": [
              "\n",
              "  <div id=\"df-a2776ad9-2c32-4898-941c-400f350633ac\">\n",
              "    <div class=\"colab-df-container\">\n",
              "      <div>\n",
              "<style scoped>\n",
              "    .dataframe tbody tr th:only-of-type {\n",
              "        vertical-align: middle;\n",
              "    }\n",
              "\n",
              "    .dataframe tbody tr th {\n",
              "        vertical-align: top;\n",
              "    }\n",
              "\n",
              "    .dataframe thead th {\n",
              "        text-align: right;\n",
              "    }\n",
              "</style>\n",
              "<table border=\"1\" class=\"dataframe\">\n",
              "  <thead>\n",
              "    <tr style=\"text-align: right;\">\n",
              "      <th></th>\n",
              "      <th>age</th>\n",
              "      <th>job</th>\n",
              "      <th>marital</th>\n",
              "      <th>education</th>\n",
              "      <th>default</th>\n",
              "      <th>balance</th>\n",
              "      <th>housing</th>\n",
              "      <th>loan</th>\n",
              "      <th>contact</th>\n",
              "      <th>day</th>\n",
              "      <th>month</th>\n",
              "      <th>campaign</th>\n",
              "      <th>pdays</th>\n",
              "      <th>previous</th>\n",
              "      <th>poutcome</th>\n",
              "      <th>deposit</th>\n",
              "    </tr>\n",
              "  </thead>\n",
              "  <tbody>\n",
              "    <tr>\n",
              "      <th>0</th>\n",
              "      <td>59</td>\n",
              "      <td>admin.</td>\n",
              "      <td>married</td>\n",
              "      <td>secondary</td>\n",
              "      <td>no</td>\n",
              "      <td>2343</td>\n",
              "      <td>yes</td>\n",
              "      <td>no</td>\n",
              "      <td>unknown</td>\n",
              "      <td>5</td>\n",
              "      <td>may</td>\n",
              "      <td>1</td>\n",
              "      <td>-1</td>\n",
              "      <td>0</td>\n",
              "      <td>unknown</td>\n",
              "      <td>yes</td>\n",
              "    </tr>\n",
              "    <tr>\n",
              "      <th>1</th>\n",
              "      <td>56</td>\n",
              "      <td>admin.</td>\n",
              "      <td>married</td>\n",
              "      <td>secondary</td>\n",
              "      <td>no</td>\n",
              "      <td>45</td>\n",
              "      <td>no</td>\n",
              "      <td>no</td>\n",
              "      <td>unknown</td>\n",
              "      <td>5</td>\n",
              "      <td>may</td>\n",
              "      <td>1</td>\n",
              "      <td>-1</td>\n",
              "      <td>0</td>\n",
              "      <td>unknown</td>\n",
              "      <td>yes</td>\n",
              "    </tr>\n",
              "    <tr>\n",
              "      <th>2</th>\n",
              "      <td>41</td>\n",
              "      <td>technician</td>\n",
              "      <td>married</td>\n",
              "      <td>secondary</td>\n",
              "      <td>no</td>\n",
              "      <td>1270</td>\n",
              "      <td>yes</td>\n",
              "      <td>no</td>\n",
              "      <td>unknown</td>\n",
              "      <td>5</td>\n",
              "      <td>may</td>\n",
              "      <td>1</td>\n",
              "      <td>-1</td>\n",
              "      <td>0</td>\n",
              "      <td>unknown</td>\n",
              "      <td>yes</td>\n",
              "    </tr>\n",
              "    <tr>\n",
              "      <th>3</th>\n",
              "      <td>55</td>\n",
              "      <td>services</td>\n",
              "      <td>married</td>\n",
              "      <td>secondary</td>\n",
              "      <td>no</td>\n",
              "      <td>2476</td>\n",
              "      <td>yes</td>\n",
              "      <td>no</td>\n",
              "      <td>unknown</td>\n",
              "      <td>5</td>\n",
              "      <td>may</td>\n",
              "      <td>1</td>\n",
              "      <td>-1</td>\n",
              "      <td>0</td>\n",
              "      <td>unknown</td>\n",
              "      <td>yes</td>\n",
              "    </tr>\n",
              "    <tr>\n",
              "      <th>4</th>\n",
              "      <td>54</td>\n",
              "      <td>admin.</td>\n",
              "      <td>married</td>\n",
              "      <td>tertiary</td>\n",
              "      <td>no</td>\n",
              "      <td>184</td>\n",
              "      <td>no</td>\n",
              "      <td>no</td>\n",
              "      <td>unknown</td>\n",
              "      <td>5</td>\n",
              "      <td>may</td>\n",
              "      <td>2</td>\n",
              "      <td>-1</td>\n",
              "      <td>0</td>\n",
              "      <td>unknown</td>\n",
              "      <td>yes</td>\n",
              "    </tr>\n",
              "  </tbody>\n",
              "</table>\n",
              "</div>\n",
              "      <button class=\"colab-df-convert\" onclick=\"convertToInteractive('df-a2776ad9-2c32-4898-941c-400f350633ac')\"\n",
              "              title=\"Convert this dataframe to an interactive table.\"\n",
              "              style=\"display:none;\">\n",
              "        \n",
              "  <svg xmlns=\"http://www.w3.org/2000/svg\" height=\"24px\"viewBox=\"0 0 24 24\"\n",
              "       width=\"24px\">\n",
              "    <path d=\"M0 0h24v24H0V0z\" fill=\"none\"/>\n",
              "    <path d=\"M18.56 5.44l.94 2.06.94-2.06 2.06-.94-2.06-.94-.94-2.06-.94 2.06-2.06.94zm-11 1L8.5 8.5l.94-2.06 2.06-.94-2.06-.94L8.5 2.5l-.94 2.06-2.06.94zm10 10l.94 2.06.94-2.06 2.06-.94-2.06-.94-.94-2.06-.94 2.06-2.06.94z\"/><path d=\"M17.41 7.96l-1.37-1.37c-.4-.4-.92-.59-1.43-.59-.52 0-1.04.2-1.43.59L10.3 9.45l-7.72 7.72c-.78.78-.78 2.05 0 2.83L4 21.41c.39.39.9.59 1.41.59.51 0 1.02-.2 1.41-.59l7.78-7.78 2.81-2.81c.8-.78.8-2.07 0-2.86zM5.41 20L4 18.59l7.72-7.72 1.47 1.35L5.41 20z\"/>\n",
              "  </svg>\n",
              "      </button>\n",
              "      \n",
              "  <style>\n",
              "    .colab-df-container {\n",
              "      display:flex;\n",
              "      flex-wrap:wrap;\n",
              "      gap: 12px;\n",
              "    }\n",
              "\n",
              "    .colab-df-convert {\n",
              "      background-color: #E8F0FE;\n",
              "      border: none;\n",
              "      border-radius: 50%;\n",
              "      cursor: pointer;\n",
              "      display: none;\n",
              "      fill: #1967D2;\n",
              "      height: 32px;\n",
              "      padding: 0 0 0 0;\n",
              "      width: 32px;\n",
              "    }\n",
              "\n",
              "    .colab-df-convert:hover {\n",
              "      background-color: #E2EBFA;\n",
              "      box-shadow: 0px 1px 2px rgba(60, 64, 67, 0.3), 0px 1px 3px 1px rgba(60, 64, 67, 0.15);\n",
              "      fill: #174EA6;\n",
              "    }\n",
              "\n",
              "    [theme=dark] .colab-df-convert {\n",
              "      background-color: #3B4455;\n",
              "      fill: #D2E3FC;\n",
              "    }\n",
              "\n",
              "    [theme=dark] .colab-df-convert:hover {\n",
              "      background-color: #434B5C;\n",
              "      box-shadow: 0px 1px 3px 1px rgba(0, 0, 0, 0.15);\n",
              "      filter: drop-shadow(0px 1px 2px rgba(0, 0, 0, 0.3));\n",
              "      fill: #FFFFFF;\n",
              "    }\n",
              "  </style>\n",
              "\n",
              "      <script>\n",
              "        const buttonEl =\n",
              "          document.querySelector('#df-a2776ad9-2c32-4898-941c-400f350633ac button.colab-df-convert');\n",
              "        buttonEl.style.display =\n",
              "          google.colab.kernel.accessAllowed ? 'block' : 'none';\n",
              "\n",
              "        async function convertToInteractive(key) {\n",
              "          const element = document.querySelector('#df-a2776ad9-2c32-4898-941c-400f350633ac');\n",
              "          const dataTable =\n",
              "            await google.colab.kernel.invokeFunction('convertToInteractive',\n",
              "                                                     [key], {});\n",
              "          if (!dataTable) return;\n",
              "\n",
              "          const docLinkHtml = 'Like what you see? Visit the ' +\n",
              "            '<a target=\"_blank\" href=https://colab.research.google.com/notebooks/data_table.ipynb>data table notebook</a>'\n",
              "            + ' to learn more about interactive tables.';\n",
              "          element.innerHTML = '';\n",
              "          dataTable['output_type'] = 'display_data';\n",
              "          await google.colab.output.renderOutput(dataTable, element);\n",
              "          const docLink = document.createElement('div');\n",
              "          docLink.innerHTML = docLinkHtml;\n",
              "          element.appendChild(docLink);\n",
              "        }\n",
              "      </script>\n",
              "    </div>\n",
              "  </div>\n",
              "  "
            ]
          },
          "metadata": {},
          "execution_count": 83
        }
      ]
    },
    {
      "cell_type": "code",
      "source": [
        "df_bank.columns"
      ],
      "metadata": {
        "colab": {
          "base_uri": "https://localhost:8080/"
        },
        "id": "_hZ0vrz-hoFB",
        "outputId": "816770c2-6ad6-4870-b3ff-bf42d4199162"
      },
      "execution_count": 84,
      "outputs": [
        {
          "output_type": "execute_result",
          "data": {
            "text/plain": [
              "Index(['age', 'job', 'marital', 'education', 'default', 'balance', 'housing',\n",
              "       'loan', 'contact', 'day', 'month', 'campaign', 'pdays', 'previous',\n",
              "       'poutcome', 'deposit'],\n",
              "      dtype='object')"
            ]
          },
          "metadata": {},
          "execution_count": 84
        }
      ]
    },
    {
      "cell_type": "markdown",
      "metadata": {
        "id": "mzRRMcUkB7Ch"
      },
      "source": [
        "## Class Distribution\n",
        "\n",
        "Another important thing to make sure before feeding our data into the model is the class distribution of the data. In our case where the expected class are divided into two outcome, 'yes' and 'no', a class distribution of 50:50 can be considered ideal."
      ]
    },
    {
      "cell_type": "code",
      "metadata": {
        "id": "bP1q5SGTF3S-",
        "colab": {
          "base_uri": "https://localhost:8080/"
        },
        "outputId": "056f8719-215c-4791-c264-2e980b7cda00"
      },
      "source": [
        "df_bank['deposit'].value_counts()"
      ],
      "execution_count": 85,
      "outputs": [
        {
          "output_type": "execute_result",
          "data": {
            "text/plain": [
              "no     5873\n",
              "yes    5289\n",
              "Name: deposit, dtype: int64"
            ]
          },
          "metadata": {},
          "execution_count": 85
        }
      ]
    },
    {
      "cell_type": "markdown",
      "metadata": {
        "id": "2qAv5u5WBzKa"
      },
      "source": [
        "As we can see our class distribution is more or less similar, not exactly 50:50 distribution but still good enough."
      ]
    },
    {
      "cell_type": "markdown",
      "metadata": {
        "id": "OKOO_Qj6odGa"
      },
      "source": [
        "## Missing Values\n",
        "\n",
        "Last thing to check before moving on is missing values. In some case our data might have missing values in some column, this can be caused some reasons such as human error. We can use the `is_null()` function from Pandas to check for any missing data and then use the `sum()` function to see the total of missing values in each column."
      ]
    },
    {
      "cell_type": "code",
      "metadata": {
        "id": "Rz75ZKRIoWdK",
        "colab": {
          "base_uri": "https://localhost:8080/"
        },
        "outputId": "1204bd83-df48-4fae-ca0b-a0b056ec1e28"
      },
      "source": [
        "df_bank.isnull().sum()"
      ],
      "execution_count": 86,
      "outputs": [
        {
          "output_type": "execute_result",
          "data": {
            "text/plain": [
              "age          0\n",
              "job          0\n",
              "marital      0\n",
              "education    0\n",
              "default      0\n",
              "balance      0\n",
              "housing      0\n",
              "loan         0\n",
              "contact      0\n",
              "day          0\n",
              "month        0\n",
              "campaign     0\n",
              "pdays        0\n",
              "previous     0\n",
              "poutcome     0\n",
              "deposit      0\n",
              "dtype: int64"
            ]
          },
          "metadata": {},
          "execution_count": 86
        }
      ]
    },
    {
      "cell_type": "markdown",
      "metadata": {
        "id": "-on1EChPDf0N"
      },
      "source": [
        "From the result we can be assured that our data have no missing value and are good to go. In the case where you did have missing value in your data you can solve it by doing imputation or just remove the column altogether depending on your case. [Here](https://www.kaggle.com/dansbecker/handling-missing-values) is a good Kaggle course on how to handle missing value in dataset."
      ]
    },
    {
      "cell_type": "markdown",
      "metadata": {
        "id": "oOwTQen_ojsR"
      },
      "source": [
        "## Scale Numeric Data\n",
        "\n",
        "Next up, we will scale our numerical data to avoid outlier presence that can significantly affect our model. Using `StandardScaler()` function from sklearn we can scale each our columns that contains numerical data. The scaling will be done using the formula below:\n",
        "\n",
        "<div align=\"center\">$Z = \\frac{X - U}{S}$</div>\n",
        "\n",
        "*Where:*\n",
        "\n",
        "*$Z:$ scaled value*\n",
        "\n",
        "*$X:$ original value*\n",
        "\n",
        "*$U:$ mean of the data*\n",
        "\n",
        "*$S:$ standard deviation of the data*"
      ]
    },
    {
      "cell_type": "code",
      "metadata": {
        "id": "A61QD58UkzFh"
      },
      "source": [
        "# # Import the StandardScaler class from the sklearn.preprocessing module\n",
        "# from sklearn.preprocessing import StandardScaler\n",
        "\n",
        "# # Copying the original dataframe\n",
        "# df_bank_ready = df_bank.copy()\n",
        "\n",
        "# # Create an instance of the StandardScaler class and assign it to the variable scaler\n",
        "# scaler = StandardScaler()\n",
        "\n",
        "# # Select columns with numerical data types (float64 and int64) from df_bank_ready and assign them to num_cols\n",
        "# num_cols = df_bank_ready.select_dtypes(include=['float64', 'int64']).columns\n",
        "\n",
        "# # Fit and transform the selected numerical columns using the fit_transform method of the scaler object,\n",
        "# # and assign the transformed values back to the corresponding columns in df_bank_ready\n",
        "# df_bank_ready[num_cols] = scaler.fit_transform(df_bank_ready[num_cols])\n",
        "\n",
        "# # Display the first few rows of the transformed dataframe, df_bank_ready\n",
        "# df_bank_ready.head()"
      ],
      "execution_count": 87,
      "outputs": []
    },
    {
      "cell_type": "code",
      "source": [
        "X = df_bank.drop('deposit', axis = 1)\n",
        "y = df_bank[\"deposit\"]"
      ],
      "metadata": {
        "id": "tqoT8hQbOdM-"
      },
      "execution_count": 88,
      "outputs": []
    },
    {
      "cell_type": "markdown",
      "metadata": {
        "id": "3QBED_6Oo0A5"
      },
      "source": [
        "## Encode Categorical Value\n",
        "\n",
        "Same as the numerical data, we also need to pre-process our categorical data from words to number to make it easier for the computer to understands. To do this we will use `OneHotEncoder()` provided by sklearn. Basically it will transform a categorical column from this:\n",
        "\n",
        "| marital | housing |\n",
        "|----------|---------|\n",
        "| single   | yes     |\n",
        "| divorced | no      |\n",
        "| married  | no      |\n",
        "\n",
        "...into something like this...\n",
        "\n",
        "| marital_single | marital_divorced | marital_married | housing_yes | housing_no |\n",
        "|----------------|------------------|-----------------|-------------|------------|\n",
        "| 1              | 0                | 0               | 1           | 0          |\n",
        "| 0              | 1                | 0               | 0           | 1          |\n",
        "| 0              | 0                | 1               | 0           | 1          |\n",
        "\n",
        "In this code cell we will also encode our label column by replacing 'yes' and 'no' with 1 and 0 respectively. We can do this by applying simple lambda/in-line function on the column."
      ]
    },
    {
      "cell_type": "code",
      "source": [
        "# Perform one-hot encoding on categorical features\n",
        "categorical_features = X.select_dtypes(include=['object']).columns.tolist()\n",
        "ct = ColumnTransformer([('encoder', OneHotEncoder(), categorical_features)], remainder='passthrough')\n",
        "X_encoded = pd.DataFrame(ct.fit_transform(X))\n",
        "\n",
        "# Encode the target variable\n",
        "label_encoder = LabelEncoder()\n",
        "y_encoded = label_encoder.fit_transform(y)"
      ],
      "metadata": {
        "id": "0uUiqXz0YfMM"
      },
      "execution_count": 89,
      "outputs": []
    },
    {
      "cell_type": "markdown",
      "metadata": {
        "id": "Xsl1BqVh8whF"
      },
      "source": [
        "## Split Dataset for Training and Testing\n",
        "\n",
        "To finish up our data pre-processing steps we will split our data into two dataset, training and testing. In this case because we have enough data we will split the data with ratio of 80:20 for training and testing respectively. This will result in our training data having 8929 rows and 2233 rows for the testing data."
      ]
    },
    {
      "cell_type": "code",
      "metadata": {
        "id": "a58WrxCd85tg",
        "colab": {
          "base_uri": "https://localhost:8080/"
        },
        "outputId": "37c887b4-e75e-46ec-f473-8a750cf79e62"
      },
      "source": [
        "# Set Training and Testing Data\n",
        "from sklearn.model_selection import train_test_split\n",
        "X_train, X_test, y_train, y_test = train_test_split(X_encoded , y_encoded,\n",
        "                                                    shuffle = True,\n",
        "                                                    test_size=0.2,\n",
        "                                                    random_state=1)\n",
        "\n",
        "# Show the Training and Testing Data\n",
        "print('Shape of training feature:', X_train.shape)\n",
        "print('Shape of testing feature:', X_test.shape)\n",
        "print('Shape of training label:', y_train.shape)\n",
        "print('Shape of training label:', y_test.shape)"
      ],
      "execution_count": 90,
      "outputs": [
        {
          "output_type": "stream",
          "name": "stdout",
          "text": [
            "Shape of training feature: (8929, 50)\n",
            "Shape of testing feature: (2233, 50)\n",
            "Shape of training label: (8929,)\n",
            "Shape of training label: (2233,)\n"
          ]
        }
      ]
    },
    {
      "cell_type": "markdown",
      "metadata": {
        "id": "LQ2dMsd099pF"
      },
      "source": [
        "# Modelling\n",
        "\n",
        "After making sure our data is good and ready we can continue to building our model. In this notebook we will try to build 4 different models with different algorithm. In this step we will create a baseline model for each algorithm using the default paramaeters set by sklearn and after building all 4 of our models we will compare them to see which works best for our case.\n",
        "\n",
        "To evaluate our model we will use the confusion matrix as our base for the evaluation.\n",
        "\n",
        "<div align='center'><img src='https://miro.medium.com/max/2102/1*fxiTNIgOyvAombPJx5KGeA.png' height='250'></div>\n",
        "where: TP = True Positive; FP = False Positive; TN = True Negative; FN = False Negative.\n",
        "\n",
        "We will use 6 metrics below to evaluate models:\n",
        "\n",
        "1. Accuracy: the proportion of true results among the total number of cases examined.\n",
        "<div align='center'>$Accuracy = \\frac{TP+TN}{TP+TN+FP+FN}$</div>\n",
        "2. Precision: used to calculate how much proportion of all data that was predicted positive **was** actually positive.\n",
        "<div align='center'>$Precision = \\frac{TP}{TP+FP}$</div>\n",
        "3. Recall: used to calculate how much proportion of actual positives is correctly classified.\n",
        "<div align='center'>$Recall = \\frac{TP}{TP+FN}$</div>\n",
        "4. F1 score: a number between 0 and 1 and is the harmonic mean of precision and recall.\n",
        "<div align='center'>$F1 = \\frac{2TP}{2TP+FP+FN}$</div>\n",
        "5. Cohen Kappa Score: Cohen's kappa measures the agreement between two raters who each classify N items into C mutually exclusive categories.\n",
        "<div align='center'>$\\kappa = \\frac{p_o-p_e}{1-p_e}$</div>\n",
        "    where $p_o$ is the empirical probability of agreement on the label assigned to any sample (the observed agreement ratio), and $p_e$ is the expected agreement when both annotators assign labels randomly. $p_e$ is estimated using a per-annotator empirical prior over the class labels.\n",
        "6. Area Under Curve (AUC): indicates how well the probabilities from the positive classes are separated from the negative classes\n",
        "\n",
        "In this case we want to focus on the recall value of our model because in our problem we should try to predict as many actual positive as we can. Because a misclassification of customer who **actually** wanted to make a deposit can mean a lose opportunity/revenue.\n",
        "\n",
        "Below we will define a helper function to evaluate each trained model and with the metrics mentioned above and save the score to a variable."
      ]
    },
    {
      "cell_type": "code",
      "metadata": {
        "id": "IHBllCJJThEz"
      },
      "source": [
        "def evaluate_model(model, x_test, y_test):\n",
        "    from sklearn import metrics\n",
        "\n",
        "    # Predict Test Data\n",
        "    y_pred = model.predict(x_test)\n",
        "\n",
        "    # Calculate accuracy, precision, recall, f1-score, and kappa score\n",
        "    acc = metrics.accuracy_score(y_test, y_pred)\n",
        "    prec = metrics.precision_score(y_test, y_pred)\n",
        "    rec = metrics.recall_score(y_test, y_pred)\n",
        "    f1 = metrics.f1_score(y_test, y_pred)\n",
        "    kappa = metrics.cohen_kappa_score(y_test, y_pred)\n",
        "\n",
        "    # Calculate area under curve (AUC)\n",
        "    y_pred_proba = model.predict_proba(x_test)[::,1]\n",
        "    fpr, tpr, _ = metrics.roc_curve(y_test, y_pred_proba)\n",
        "    auc = metrics.roc_auc_score(y_test, y_pred_proba)\n",
        "\n",
        "    # Display confussion matrix\n",
        "    cm = metrics.confusion_matrix(y_test, y_pred)\n",
        "\n",
        "    return {'acc': acc, 'prec': prec, 'rec': rec, 'f1': f1, 'kappa': kappa,\n",
        "            'fpr': fpr, 'tpr': tpr, 'auc': auc, 'cm': cm}"
      ],
      "execution_count": 91,
      "outputs": []
    },
    {
      "cell_type": "markdown",
      "metadata": {
        "id": "EaZF4K139-t2"
      },
      "source": [
        "## Decision Tree\n",
        "\n",
        "Decision tree is a tree shaped diagram used to determine a course of action. Each branch of the tree represents a possible decision, occurrence or reaction.\n",
        "\n",
        "<div align='center'><img src='https://raw.githubusercontent.com/rafiag/DTI2020/main/images/decision_tree.PNG' height='250'></div>\n",
        "\n",
        "Advantages:\n",
        "* Inexpensive to construct\n",
        "* Extremely fast at classifying unknown records\n",
        "* Easy to interpret for small-sized trees•\n",
        "* Accuracy is comparable to other classification techniques for many simple data sets\n",
        "\n",
        "Disadvantages:\n",
        "* Overfitting when algorithm capture noise in the data\n",
        "* The model can get unstable due to small variation of data\n",
        "* Low biased tree: difficult for the model to work with new data"
      ]
    },
    {
      "cell_type": "markdown",
      "metadata": {
        "id": "FKajNYts-Stx"
      },
      "source": [
        "### Building Model"
      ]
    },
    {
      "cell_type": "code",
      "metadata": {
        "id": "qYHlOT8S-YqX",
        "colab": {
          "base_uri": "https://localhost:8080/",
          "height": 74
        },
        "outputId": "06e18d92-05fd-4074-a017-fcbd8ced0474"
      },
      "source": [
        "from sklearn import tree\n",
        "\n",
        "# Building Decision Tree model\n",
        "dtc = tree.DecisionTreeClassifier(random_state=0)\n",
        "dtc.fit(X_train, y_train)"
      ],
      "execution_count": 92,
      "outputs": [
        {
          "output_type": "execute_result",
          "data": {
            "text/plain": [
              "DecisionTreeClassifier(random_state=0)"
            ],
            "text/html": [
              "<style>#sk-container-id-9 {color: black;background-color: white;}#sk-container-id-9 pre{padding: 0;}#sk-container-id-9 div.sk-toggleable {background-color: white;}#sk-container-id-9 label.sk-toggleable__label {cursor: pointer;display: block;width: 100%;margin-bottom: 0;padding: 0.3em;box-sizing: border-box;text-align: center;}#sk-container-id-9 label.sk-toggleable__label-arrow:before {content: \"▸\";float: left;margin-right: 0.25em;color: #696969;}#sk-container-id-9 label.sk-toggleable__label-arrow:hover:before {color: black;}#sk-container-id-9 div.sk-estimator:hover label.sk-toggleable__label-arrow:before {color: black;}#sk-container-id-9 div.sk-toggleable__content {max-height: 0;max-width: 0;overflow: hidden;text-align: left;background-color: #f0f8ff;}#sk-container-id-9 div.sk-toggleable__content pre {margin: 0.2em;color: black;border-radius: 0.25em;background-color: #f0f8ff;}#sk-container-id-9 input.sk-toggleable__control:checked~div.sk-toggleable__content {max-height: 200px;max-width: 100%;overflow: auto;}#sk-container-id-9 input.sk-toggleable__control:checked~label.sk-toggleable__label-arrow:before {content: \"▾\";}#sk-container-id-9 div.sk-estimator input.sk-toggleable__control:checked~label.sk-toggleable__label {background-color: #d4ebff;}#sk-container-id-9 div.sk-label input.sk-toggleable__control:checked~label.sk-toggleable__label {background-color: #d4ebff;}#sk-container-id-9 input.sk-hidden--visually {border: 0;clip: rect(1px 1px 1px 1px);clip: rect(1px, 1px, 1px, 1px);height: 1px;margin: -1px;overflow: hidden;padding: 0;position: absolute;width: 1px;}#sk-container-id-9 div.sk-estimator {font-family: monospace;background-color: #f0f8ff;border: 1px dotted black;border-radius: 0.25em;box-sizing: border-box;margin-bottom: 0.5em;}#sk-container-id-9 div.sk-estimator:hover {background-color: #d4ebff;}#sk-container-id-9 div.sk-parallel-item::after {content: \"\";width: 100%;border-bottom: 1px solid gray;flex-grow: 1;}#sk-container-id-9 div.sk-label:hover label.sk-toggleable__label {background-color: #d4ebff;}#sk-container-id-9 div.sk-serial::before {content: \"\";position: absolute;border-left: 1px solid gray;box-sizing: border-box;top: 0;bottom: 0;left: 50%;z-index: 0;}#sk-container-id-9 div.sk-serial {display: flex;flex-direction: column;align-items: center;background-color: white;padding-right: 0.2em;padding-left: 0.2em;position: relative;}#sk-container-id-9 div.sk-item {position: relative;z-index: 1;}#sk-container-id-9 div.sk-parallel {display: flex;align-items: stretch;justify-content: center;background-color: white;position: relative;}#sk-container-id-9 div.sk-item::before, #sk-container-id-9 div.sk-parallel-item::before {content: \"\";position: absolute;border-left: 1px solid gray;box-sizing: border-box;top: 0;bottom: 0;left: 50%;z-index: -1;}#sk-container-id-9 div.sk-parallel-item {display: flex;flex-direction: column;z-index: 1;position: relative;background-color: white;}#sk-container-id-9 div.sk-parallel-item:first-child::after {align-self: flex-end;width: 50%;}#sk-container-id-9 div.sk-parallel-item:last-child::after {align-self: flex-start;width: 50%;}#sk-container-id-9 div.sk-parallel-item:only-child::after {width: 0;}#sk-container-id-9 div.sk-dashed-wrapped {border: 1px dashed gray;margin: 0 0.4em 0.5em 0.4em;box-sizing: border-box;padding-bottom: 0.4em;background-color: white;}#sk-container-id-9 div.sk-label label {font-family: monospace;font-weight: bold;display: inline-block;line-height: 1.2em;}#sk-container-id-9 div.sk-label-container {text-align: center;}#sk-container-id-9 div.sk-container {/* jupyter's `normalize.less` sets `[hidden] { display: none; }` but bootstrap.min.css set `[hidden] { display: none !important; }` so we also need the `!important` here to be able to override the default hidden behavior on the sphinx rendered scikit-learn.org. See: https://github.com/scikit-learn/scikit-learn/issues/21755 */display: inline-block !important;position: relative;}#sk-container-id-9 div.sk-text-repr-fallback {display: none;}</style><div id=\"sk-container-id-9\" class=\"sk-top-container\"><div class=\"sk-text-repr-fallback\"><pre>DecisionTreeClassifier(random_state=0)</pre><b>In a Jupyter environment, please rerun this cell to show the HTML representation or trust the notebook. <br />On GitHub, the HTML representation is unable to render, please try loading this page with nbviewer.org.</b></div><div class=\"sk-container\" hidden><div class=\"sk-item\"><div class=\"sk-estimator sk-toggleable\"><input class=\"sk-toggleable__control sk-hidden--visually\" id=\"sk-estimator-id-9\" type=\"checkbox\" checked><label for=\"sk-estimator-id-9\" class=\"sk-toggleable__label sk-toggleable__label-arrow\">DecisionTreeClassifier</label><div class=\"sk-toggleable__content\"><pre>DecisionTreeClassifier(random_state=0)</pre></div></div></div></div></div>"
            ]
          },
          "metadata": {},
          "execution_count": 92
        }
      ]
    },
    {
      "cell_type": "markdown",
      "metadata": {
        "id": "ikx3CBJ6-W0y"
      },
      "source": [
        "### Model Evaluation"
      ]
    },
    {
      "cell_type": "code",
      "metadata": {
        "id": "Rc1GvY5UTprv",
        "colab": {
          "base_uri": "https://localhost:8080/"
        },
        "outputId": "56048934-ab23-4f8e-954a-ab1ad3aec39d"
      },
      "source": [
        "# Evaluate Model\n",
        "dtc_eval = evaluate_model(dtc, X_test, y_test)\n",
        "\n",
        "# Print result\n",
        "print('Accuracy:', dtc_eval['acc'])\n",
        "print('Precision:', dtc_eval['prec'])\n",
        "print('Recall:', dtc_eval['rec'])\n",
        "print('F1 Score:', dtc_eval['f1'])\n",
        "print('Cohens Kappa Score:', dtc_eval['kappa'])\n",
        "print('Area Under Curve:', dtc_eval['auc'])\n",
        "print('Confusion Matrix:\\n', dtc_eval['cm'])"
      ],
      "execution_count": 93,
      "outputs": [
        {
          "output_type": "stream",
          "name": "stdout",
          "text": [
            "Accuracy: 0.6341244961934617\n",
            "Precision: 0.6224390243902439\n",
            "Recall: 0.5973782771535581\n",
            "F1 Score: 0.6096512183468706\n",
            "Cohens Kappa Score: 0.2656346796582817\n",
            "Area Under Curve: 0.6325947179759207\n",
            "Confusion Matrix:\n",
            " [[778 387]\n",
            " [430 638]]\n"
          ]
        }
      ]
    },
    {
      "cell_type": "markdown",
      "metadata": {
        "id": "S31ZWX3MD9e-"
      },
      "source": [
        "## Random Forest\n",
        "\n",
        "Random forest or Random Decision Forest is a method that operates by constructing multiple decision trees during training phases. The decision of the majority of the trees is chosen as final decision.\n",
        "\n",
        "<div align='center'><img src='https://raw.githubusercontent.com/rafiag/DTI2020/main/images/random_forest.PNG' height='250'></div>\n",
        "\n",
        "Advantages:\n",
        "* It can be used for both regression and classification tasks and that it’s easy to view the relative importance it assigns to the input features.\n",
        "* It is also considered as a very handy and easy to use algorithm, because it’s default hyper-parameters often produce a good prediction result.\n",
        "\n",
        "Disadvantages:\n",
        "* Many trees can make the algorithm to slow and ineffective for real-time predictions. A more accurate prediction requires more trees, which results in a slower model.\n",
        "* It is a predictive modelling tool and not a descriptive tool."
      ]
    },
    {
      "cell_type": "markdown",
      "metadata": {
        "id": "yxGs5YZREDZd"
      },
      "source": [
        "### Building Model"
      ]
    },
    {
      "cell_type": "code",
      "metadata": {
        "id": "LPAcuhNVEDZh",
        "colab": {
          "base_uri": "https://localhost:8080/",
          "height": 74
        },
        "outputId": "a2f02b24-67b2-455d-c921-fe16aceadd92"
      },
      "source": [
        "from sklearn.ensemble import RandomForestClassifier\n",
        "\n",
        "# Building Random Forest model\n",
        "rf = RandomForestClassifier(random_state=0)\n",
        "rf.fit(X_train, y_train)"
      ],
      "execution_count": 94,
      "outputs": [
        {
          "output_type": "execute_result",
          "data": {
            "text/plain": [
              "RandomForestClassifier(random_state=0)"
            ],
            "text/html": [
              "<style>#sk-container-id-10 {color: black;background-color: white;}#sk-container-id-10 pre{padding: 0;}#sk-container-id-10 div.sk-toggleable {background-color: white;}#sk-container-id-10 label.sk-toggleable__label {cursor: pointer;display: block;width: 100%;margin-bottom: 0;padding: 0.3em;box-sizing: border-box;text-align: center;}#sk-container-id-10 label.sk-toggleable__label-arrow:before {content: \"▸\";float: left;margin-right: 0.25em;color: #696969;}#sk-container-id-10 label.sk-toggleable__label-arrow:hover:before {color: black;}#sk-container-id-10 div.sk-estimator:hover label.sk-toggleable__label-arrow:before {color: black;}#sk-container-id-10 div.sk-toggleable__content {max-height: 0;max-width: 0;overflow: hidden;text-align: left;background-color: #f0f8ff;}#sk-container-id-10 div.sk-toggleable__content pre {margin: 0.2em;color: black;border-radius: 0.25em;background-color: #f0f8ff;}#sk-container-id-10 input.sk-toggleable__control:checked~div.sk-toggleable__content {max-height: 200px;max-width: 100%;overflow: auto;}#sk-container-id-10 input.sk-toggleable__control:checked~label.sk-toggleable__label-arrow:before {content: \"▾\";}#sk-container-id-10 div.sk-estimator input.sk-toggleable__control:checked~label.sk-toggleable__label {background-color: #d4ebff;}#sk-container-id-10 div.sk-label input.sk-toggleable__control:checked~label.sk-toggleable__label {background-color: #d4ebff;}#sk-container-id-10 input.sk-hidden--visually {border: 0;clip: rect(1px 1px 1px 1px);clip: rect(1px, 1px, 1px, 1px);height: 1px;margin: -1px;overflow: hidden;padding: 0;position: absolute;width: 1px;}#sk-container-id-10 div.sk-estimator {font-family: monospace;background-color: #f0f8ff;border: 1px dotted black;border-radius: 0.25em;box-sizing: border-box;margin-bottom: 0.5em;}#sk-container-id-10 div.sk-estimator:hover {background-color: #d4ebff;}#sk-container-id-10 div.sk-parallel-item::after {content: \"\";width: 100%;border-bottom: 1px solid gray;flex-grow: 1;}#sk-container-id-10 div.sk-label:hover label.sk-toggleable__label {background-color: #d4ebff;}#sk-container-id-10 div.sk-serial::before {content: \"\";position: absolute;border-left: 1px solid gray;box-sizing: border-box;top: 0;bottom: 0;left: 50%;z-index: 0;}#sk-container-id-10 div.sk-serial {display: flex;flex-direction: column;align-items: center;background-color: white;padding-right: 0.2em;padding-left: 0.2em;position: relative;}#sk-container-id-10 div.sk-item {position: relative;z-index: 1;}#sk-container-id-10 div.sk-parallel {display: flex;align-items: stretch;justify-content: center;background-color: white;position: relative;}#sk-container-id-10 div.sk-item::before, #sk-container-id-10 div.sk-parallel-item::before {content: \"\";position: absolute;border-left: 1px solid gray;box-sizing: border-box;top: 0;bottom: 0;left: 50%;z-index: -1;}#sk-container-id-10 div.sk-parallel-item {display: flex;flex-direction: column;z-index: 1;position: relative;background-color: white;}#sk-container-id-10 div.sk-parallel-item:first-child::after {align-self: flex-end;width: 50%;}#sk-container-id-10 div.sk-parallel-item:last-child::after {align-self: flex-start;width: 50%;}#sk-container-id-10 div.sk-parallel-item:only-child::after {width: 0;}#sk-container-id-10 div.sk-dashed-wrapped {border: 1px dashed gray;margin: 0 0.4em 0.5em 0.4em;box-sizing: border-box;padding-bottom: 0.4em;background-color: white;}#sk-container-id-10 div.sk-label label {font-family: monospace;font-weight: bold;display: inline-block;line-height: 1.2em;}#sk-container-id-10 div.sk-label-container {text-align: center;}#sk-container-id-10 div.sk-container {/* jupyter's `normalize.less` sets `[hidden] { display: none; }` but bootstrap.min.css set `[hidden] { display: none !important; }` so we also need the `!important` here to be able to override the default hidden behavior on the sphinx rendered scikit-learn.org. See: https://github.com/scikit-learn/scikit-learn/issues/21755 */display: inline-block !important;position: relative;}#sk-container-id-10 div.sk-text-repr-fallback {display: none;}</style><div id=\"sk-container-id-10\" class=\"sk-top-container\"><div class=\"sk-text-repr-fallback\"><pre>RandomForestClassifier(random_state=0)</pre><b>In a Jupyter environment, please rerun this cell to show the HTML representation or trust the notebook. <br />On GitHub, the HTML representation is unable to render, please try loading this page with nbviewer.org.</b></div><div class=\"sk-container\" hidden><div class=\"sk-item\"><div class=\"sk-estimator sk-toggleable\"><input class=\"sk-toggleable__control sk-hidden--visually\" id=\"sk-estimator-id-10\" type=\"checkbox\" checked><label for=\"sk-estimator-id-10\" class=\"sk-toggleable__label sk-toggleable__label-arrow\">RandomForestClassifier</label><div class=\"sk-toggleable__content\"><pre>RandomForestClassifier(random_state=0)</pre></div></div></div></div></div>"
            ]
          },
          "metadata": {},
          "execution_count": 94
        }
      ]
    },
    {
      "cell_type": "markdown",
      "metadata": {
        "id": "_F3f_LTLEDZz"
      },
      "source": [
        "### Model Evaluation"
      ]
    },
    {
      "cell_type": "code",
      "metadata": {
        "id": "HIHhis3PUHZV",
        "colab": {
          "base_uri": "https://localhost:8080/"
        },
        "outputId": "135b974e-7b7a-47f6-ee3e-404977f12dad"
      },
      "source": [
        "# Evaluate Model\n",
        "rf_eval = evaluate_model(rf, X_test, y_test)\n",
        "\n",
        "# Print result\n",
        "print('Accuracy:', rf_eval['acc'])\n",
        "print('Precision:', rf_eval['prec'])\n",
        "print('Recall:', rf_eval['rec'])\n",
        "print('F1 Score:', rf_eval['f1'])\n",
        "print('Cohens Kappa Score:', rf_eval['kappa'])\n",
        "print('Area Under Curve:', rf_eval['auc'])\n",
        "print('Confusion Matrix:\\n', rf_eval['cm'])"
      ],
      "execution_count": 95,
      "outputs": [
        {
          "output_type": "stream",
          "name": "stdout",
          "text": [
            "Accuracy: 0.7210031347962382\n",
            "Precision: 0.750281214848144\n",
            "Recall: 0.6245318352059925\n",
            "F1 Score: 0.681655595298927\n",
            "Cohens Kappa Score: 0.4370232089085043\n",
            "Area Under Curve: 0.7821522721062193\n",
            "Confusion Matrix:\n",
            " [[943 222]\n",
            " [401 667]]\n"
          ]
        }
      ]
    },
    {
      "cell_type": "markdown",
      "metadata": {
        "id": "Rw2_QuEwEid_"
      },
      "source": [
        "## Naive Bayes\n",
        "\n",
        "Naive Bayes is a simple technique for constructing classifiers: models that assign class labels to problem instances, represented as vectors of feature values, where the class labels are drawn from some finite set. There is not a single algorithm for training such classifiers, but a family of algorithms based on a common principle: all naive Bayes classifiers assume that the value of a particular feature is independent of the value of any other feature, given the class variable. Below are the Bayes theorem formula:\n",
        "\n",
        "<div align=\"center\">$P(C | A) = \\frac{P(A|C) P(C)}{P(A)}$</div>\n",
        "\n",
        "For example, given:\n",
        "* A doctor knows that meningitis  causes  stiff neck 50% of the time\n",
        "* Prior probability  of any patient  having  meningitis  is 1/50,000\n",
        "* Prior probability  of any patient  having  stiff neck is 1/20\n",
        "\n",
        "Then the probability of patient who have stiff neck to also have meningitis is:\n",
        "\n",
        "<div align=\"center\">$P(C | A) = \\frac{P(A|C) P(C)}{P(A)} = \\frac{0.5 * (1 / 50000)}{1 / 20} = 0.0002$</div>"
      ]
    },
    {
      "cell_type": "markdown",
      "metadata": {
        "id": "r6tOX8e2En_N"
      },
      "source": [
        "### Building Model"
      ]
    },
    {
      "cell_type": "code",
      "metadata": {
        "id": "uHZ4k5ArEn_R",
        "colab": {
          "base_uri": "https://localhost:8080/",
          "height": 74
        },
        "outputId": "715dbf9d-779b-4c92-e7db-a63832995ba7"
      },
      "source": [
        "from sklearn.naive_bayes import GaussianNB\n",
        "\n",
        "# Building Naive Bayes model\n",
        "nb = GaussianNB()\n",
        "nb.fit(X_train, y_train)"
      ],
      "execution_count": 96,
      "outputs": [
        {
          "output_type": "execute_result",
          "data": {
            "text/plain": [
              "GaussianNB()"
            ],
            "text/html": [
              "<style>#sk-container-id-11 {color: black;background-color: white;}#sk-container-id-11 pre{padding: 0;}#sk-container-id-11 div.sk-toggleable {background-color: white;}#sk-container-id-11 label.sk-toggleable__label {cursor: pointer;display: block;width: 100%;margin-bottom: 0;padding: 0.3em;box-sizing: border-box;text-align: center;}#sk-container-id-11 label.sk-toggleable__label-arrow:before {content: \"▸\";float: left;margin-right: 0.25em;color: #696969;}#sk-container-id-11 label.sk-toggleable__label-arrow:hover:before {color: black;}#sk-container-id-11 div.sk-estimator:hover label.sk-toggleable__label-arrow:before {color: black;}#sk-container-id-11 div.sk-toggleable__content {max-height: 0;max-width: 0;overflow: hidden;text-align: left;background-color: #f0f8ff;}#sk-container-id-11 div.sk-toggleable__content pre {margin: 0.2em;color: black;border-radius: 0.25em;background-color: #f0f8ff;}#sk-container-id-11 input.sk-toggleable__control:checked~div.sk-toggleable__content {max-height: 200px;max-width: 100%;overflow: auto;}#sk-container-id-11 input.sk-toggleable__control:checked~label.sk-toggleable__label-arrow:before {content: \"▾\";}#sk-container-id-11 div.sk-estimator input.sk-toggleable__control:checked~label.sk-toggleable__label {background-color: #d4ebff;}#sk-container-id-11 div.sk-label input.sk-toggleable__control:checked~label.sk-toggleable__label {background-color: #d4ebff;}#sk-container-id-11 input.sk-hidden--visually {border: 0;clip: rect(1px 1px 1px 1px);clip: rect(1px, 1px, 1px, 1px);height: 1px;margin: -1px;overflow: hidden;padding: 0;position: absolute;width: 1px;}#sk-container-id-11 div.sk-estimator {font-family: monospace;background-color: #f0f8ff;border: 1px dotted black;border-radius: 0.25em;box-sizing: border-box;margin-bottom: 0.5em;}#sk-container-id-11 div.sk-estimator:hover {background-color: #d4ebff;}#sk-container-id-11 div.sk-parallel-item::after {content: \"\";width: 100%;border-bottom: 1px solid gray;flex-grow: 1;}#sk-container-id-11 div.sk-label:hover label.sk-toggleable__label {background-color: #d4ebff;}#sk-container-id-11 div.sk-serial::before {content: \"\";position: absolute;border-left: 1px solid gray;box-sizing: border-box;top: 0;bottom: 0;left: 50%;z-index: 0;}#sk-container-id-11 div.sk-serial {display: flex;flex-direction: column;align-items: center;background-color: white;padding-right: 0.2em;padding-left: 0.2em;position: relative;}#sk-container-id-11 div.sk-item {position: relative;z-index: 1;}#sk-container-id-11 div.sk-parallel {display: flex;align-items: stretch;justify-content: center;background-color: white;position: relative;}#sk-container-id-11 div.sk-item::before, #sk-container-id-11 div.sk-parallel-item::before {content: \"\";position: absolute;border-left: 1px solid gray;box-sizing: border-box;top: 0;bottom: 0;left: 50%;z-index: -1;}#sk-container-id-11 div.sk-parallel-item {display: flex;flex-direction: column;z-index: 1;position: relative;background-color: white;}#sk-container-id-11 div.sk-parallel-item:first-child::after {align-self: flex-end;width: 50%;}#sk-container-id-11 div.sk-parallel-item:last-child::after {align-self: flex-start;width: 50%;}#sk-container-id-11 div.sk-parallel-item:only-child::after {width: 0;}#sk-container-id-11 div.sk-dashed-wrapped {border: 1px dashed gray;margin: 0 0.4em 0.5em 0.4em;box-sizing: border-box;padding-bottom: 0.4em;background-color: white;}#sk-container-id-11 div.sk-label label {font-family: monospace;font-weight: bold;display: inline-block;line-height: 1.2em;}#sk-container-id-11 div.sk-label-container {text-align: center;}#sk-container-id-11 div.sk-container {/* jupyter's `normalize.less` sets `[hidden] { display: none; }` but bootstrap.min.css set `[hidden] { display: none !important; }` so we also need the `!important` here to be able to override the default hidden behavior on the sphinx rendered scikit-learn.org. See: https://github.com/scikit-learn/scikit-learn/issues/21755 */display: inline-block !important;position: relative;}#sk-container-id-11 div.sk-text-repr-fallback {display: none;}</style><div id=\"sk-container-id-11\" class=\"sk-top-container\"><div class=\"sk-text-repr-fallback\"><pre>GaussianNB()</pre><b>In a Jupyter environment, please rerun this cell to show the HTML representation or trust the notebook. <br />On GitHub, the HTML representation is unable to render, please try loading this page with nbviewer.org.</b></div><div class=\"sk-container\" hidden><div class=\"sk-item\"><div class=\"sk-estimator sk-toggleable\"><input class=\"sk-toggleable__control sk-hidden--visually\" id=\"sk-estimator-id-11\" type=\"checkbox\" checked><label for=\"sk-estimator-id-11\" class=\"sk-toggleable__label sk-toggleable__label-arrow\">GaussianNB</label><div class=\"sk-toggleable__content\"><pre>GaussianNB()</pre></div></div></div></div></div>"
            ]
          },
          "metadata": {},
          "execution_count": 96
        }
      ]
    },
    {
      "cell_type": "markdown",
      "metadata": {
        "id": "k7R3M5N5En_l"
      },
      "source": [
        "### Model Evaluation"
      ]
    },
    {
      "cell_type": "code",
      "metadata": {
        "id": "O0Ob381RUR7A",
        "colab": {
          "base_uri": "https://localhost:8080/"
        },
        "outputId": "1c1454e8-136a-47b0-e541-9f1bc1affc0c"
      },
      "source": [
        "# Evaluate Model\n",
        "nb_eval = evaluate_model(nb, X_test, y_test)\n",
        "\n",
        "# Print result\n",
        "print('Accuracy:', nb_eval['acc'])\n",
        "print('Precision:', nb_eval['prec'])\n",
        "print('Recall:', nb_eval['rec'])\n",
        "print('F1 Score:', nb_eval['f1'])\n",
        "print('Cohens Kappa Score:', nb_eval['kappa'])\n",
        "print('Area Under Curve:', nb_eval['auc'])\n",
        "print('Confusion Matrix:\\n', nb_eval['cm'])"
      ],
      "execution_count": 97,
      "outputs": [
        {
          "output_type": "stream",
          "name": "stdout",
          "text": [
            "Accuracy: 0.6909986565158979\n",
            "Precision: 0.7441860465116279\n",
            "Recall: 0.5393258426966292\n",
            "F1 Score: 0.6254071661237784\n",
            "Cohens Kappa Score: 0.3736508718569125\n",
            "Area Under Curve: 0.7459589140184211\n",
            "Confusion Matrix:\n",
            " [[967 198]\n",
            " [492 576]]\n"
          ]
        }
      ]
    },
    {
      "cell_type": "markdown",
      "metadata": {
        "id": "c-ON4O9yIU55"
      },
      "source": [
        "## K-Nearest Neighbors\n",
        "\n",
        "K-Nearest Neighbors (KNN) classify new data by finding k-number of closest neighbor from the training data and then decide the class based on the majority of it's neighbors. For example in the image below where $k = 3$ majority of it's neighbor is classified as B, but when $k = 7$ the majority will changes to A.\n",
        "\n",
        "<div align='center'><img src='https://raw.githubusercontent.com/rafiag/DTI2020/main/images/knn.PNG' height='200'></div>\n",
        "\n",
        "Advantages:\n",
        "* Simple technique that is easily implemented\n",
        "* Building model is cheap\n",
        "* Extremely flexible classification scheme\n",
        "\n",
        "Disadvantages:\n",
        "* Classifying unknown records are relatively expensive\n",
        "* Requires distance computation of k-nearest neighbors\n",
        "* Computationally intensive, especially when the size of the training set grows\n",
        "* Accuracy can be severely degraded by the presence of noisy or irrelevant features"
      ]
    },
    {
      "cell_type": "markdown",
      "metadata": {
        "id": "Qj7xtqeyIwvp"
      },
      "source": [
        "### Building Model"
      ]
    },
    {
      "cell_type": "code",
      "metadata": {
        "id": "5o34E_b3Iwvu",
        "colab": {
          "base_uri": "https://localhost:8080/",
          "height": 74
        },
        "outputId": "058d90b5-64e7-47cc-e80c-6b8f6db6de26"
      },
      "source": [
        "from sklearn.neighbors import KNeighborsClassifier\n",
        "\n",
        "# Building KNN model\n",
        "knn = KNeighborsClassifier()\n",
        "knn.fit(X_train, y_train)"
      ],
      "execution_count": 98,
      "outputs": [
        {
          "output_type": "execute_result",
          "data": {
            "text/plain": [
              "KNeighborsClassifier()"
            ],
            "text/html": [
              "<style>#sk-container-id-12 {color: black;background-color: white;}#sk-container-id-12 pre{padding: 0;}#sk-container-id-12 div.sk-toggleable {background-color: white;}#sk-container-id-12 label.sk-toggleable__label {cursor: pointer;display: block;width: 100%;margin-bottom: 0;padding: 0.3em;box-sizing: border-box;text-align: center;}#sk-container-id-12 label.sk-toggleable__label-arrow:before {content: \"▸\";float: left;margin-right: 0.25em;color: #696969;}#sk-container-id-12 label.sk-toggleable__label-arrow:hover:before {color: black;}#sk-container-id-12 div.sk-estimator:hover label.sk-toggleable__label-arrow:before {color: black;}#sk-container-id-12 div.sk-toggleable__content {max-height: 0;max-width: 0;overflow: hidden;text-align: left;background-color: #f0f8ff;}#sk-container-id-12 div.sk-toggleable__content pre {margin: 0.2em;color: black;border-radius: 0.25em;background-color: #f0f8ff;}#sk-container-id-12 input.sk-toggleable__control:checked~div.sk-toggleable__content {max-height: 200px;max-width: 100%;overflow: auto;}#sk-container-id-12 input.sk-toggleable__control:checked~label.sk-toggleable__label-arrow:before {content: \"▾\";}#sk-container-id-12 div.sk-estimator input.sk-toggleable__control:checked~label.sk-toggleable__label {background-color: #d4ebff;}#sk-container-id-12 div.sk-label input.sk-toggleable__control:checked~label.sk-toggleable__label {background-color: #d4ebff;}#sk-container-id-12 input.sk-hidden--visually {border: 0;clip: rect(1px 1px 1px 1px);clip: rect(1px, 1px, 1px, 1px);height: 1px;margin: -1px;overflow: hidden;padding: 0;position: absolute;width: 1px;}#sk-container-id-12 div.sk-estimator {font-family: monospace;background-color: #f0f8ff;border: 1px dotted black;border-radius: 0.25em;box-sizing: border-box;margin-bottom: 0.5em;}#sk-container-id-12 div.sk-estimator:hover {background-color: #d4ebff;}#sk-container-id-12 div.sk-parallel-item::after {content: \"\";width: 100%;border-bottom: 1px solid gray;flex-grow: 1;}#sk-container-id-12 div.sk-label:hover label.sk-toggleable__label {background-color: #d4ebff;}#sk-container-id-12 div.sk-serial::before {content: \"\";position: absolute;border-left: 1px solid gray;box-sizing: border-box;top: 0;bottom: 0;left: 50%;z-index: 0;}#sk-container-id-12 div.sk-serial {display: flex;flex-direction: column;align-items: center;background-color: white;padding-right: 0.2em;padding-left: 0.2em;position: relative;}#sk-container-id-12 div.sk-item {position: relative;z-index: 1;}#sk-container-id-12 div.sk-parallel {display: flex;align-items: stretch;justify-content: center;background-color: white;position: relative;}#sk-container-id-12 div.sk-item::before, #sk-container-id-12 div.sk-parallel-item::before {content: \"\";position: absolute;border-left: 1px solid gray;box-sizing: border-box;top: 0;bottom: 0;left: 50%;z-index: -1;}#sk-container-id-12 div.sk-parallel-item {display: flex;flex-direction: column;z-index: 1;position: relative;background-color: white;}#sk-container-id-12 div.sk-parallel-item:first-child::after {align-self: flex-end;width: 50%;}#sk-container-id-12 div.sk-parallel-item:last-child::after {align-self: flex-start;width: 50%;}#sk-container-id-12 div.sk-parallel-item:only-child::after {width: 0;}#sk-container-id-12 div.sk-dashed-wrapped {border: 1px dashed gray;margin: 0 0.4em 0.5em 0.4em;box-sizing: border-box;padding-bottom: 0.4em;background-color: white;}#sk-container-id-12 div.sk-label label {font-family: monospace;font-weight: bold;display: inline-block;line-height: 1.2em;}#sk-container-id-12 div.sk-label-container {text-align: center;}#sk-container-id-12 div.sk-container {/* jupyter's `normalize.less` sets `[hidden] { display: none; }` but bootstrap.min.css set `[hidden] { display: none !important; }` so we also need the `!important` here to be able to override the default hidden behavior on the sphinx rendered scikit-learn.org. See: https://github.com/scikit-learn/scikit-learn/issues/21755 */display: inline-block !important;position: relative;}#sk-container-id-12 div.sk-text-repr-fallback {display: none;}</style><div id=\"sk-container-id-12\" class=\"sk-top-container\"><div class=\"sk-text-repr-fallback\"><pre>KNeighborsClassifier()</pre><b>In a Jupyter environment, please rerun this cell to show the HTML representation or trust the notebook. <br />On GitHub, the HTML representation is unable to render, please try loading this page with nbviewer.org.</b></div><div class=\"sk-container\" hidden><div class=\"sk-item\"><div class=\"sk-estimator sk-toggleable\"><input class=\"sk-toggleable__control sk-hidden--visually\" id=\"sk-estimator-id-12\" type=\"checkbox\" checked><label for=\"sk-estimator-id-12\" class=\"sk-toggleable__label sk-toggleable__label-arrow\">KNeighborsClassifier</label><div class=\"sk-toggleable__content\"><pre>KNeighborsClassifier()</pre></div></div></div></div></div>"
            ]
          },
          "metadata": {},
          "execution_count": 98
        }
      ]
    },
    {
      "cell_type": "markdown",
      "metadata": {
        "id": "KBMCWD1JIwv_"
      },
      "source": [
        "### Model Evaluation"
      ]
    },
    {
      "cell_type": "code",
      "metadata": {
        "id": "75w-TRgeUcFf",
        "colab": {
          "base_uri": "https://localhost:8080/"
        },
        "outputId": "c4017ac3-357a-4a8a-f25a-c9aed9a89441"
      },
      "source": [
        "# Evaluate Model\n",
        "knn_eval = evaluate_model(knn, X_test, y_test)\n",
        "\n",
        "# Print result\n",
        "print('Accuracy:', knn_eval['acc'])\n",
        "print('Precision:', knn_eval['prec'])\n",
        "print('Recall:', knn_eval['rec'])\n",
        "print('F1 Score:', knn_eval['f1'])\n",
        "print('Cohens Kappa Score:', knn_eval['kappa'])\n",
        "print('Area Under Curve:', knn_eval['auc'])\n",
        "print('Confusion Matrix:\\n', knn_eval['cm'])"
      ],
      "execution_count": 99,
      "outputs": [
        {
          "output_type": "stream",
          "name": "stdout",
          "text": [
            "Accuracy: 0.5888938647559337\n",
            "Precision: 0.5801282051282052\n",
            "Recall: 0.5084269662921348\n",
            "F1 Score: 0.5419161676646705\n",
            "Cohens Kappa Score: 0.1719727779043445\n",
            "Area Under Curve: 0.614725691597949\n",
            "Confusion Matrix:\n",
            " [[772 393]\n",
            " [525 543]]\n"
          ]
        }
      ]
    },
    {
      "cell_type": "markdown",
      "metadata": {
        "id": "q_SNuZfUJdQu"
      },
      "source": [
        "## Model Comparison\n",
        "\n",
        "After building all of our model, we can now compare how well each model perform. To do this we will create two chart, first is a grouped bar chart to display the value of accuracy, precision, recall, f1, and kappa score of our model, and second a line chart to show the AUC of all our models."
      ]
    },
    {
      "cell_type": "code",
      "metadata": {
        "id": "HGEI1_ALU8uc",
        "colab": {
          "base_uri": "https://localhost:8080/",
          "height": 600
        },
        "outputId": "633dfe30-2006-4ace-ff19-61a33feb78b3"
      },
      "source": [
        "# Intitialize figure with two plots\n",
        "fig, (ax1, ax2) = plt.subplots(1, 2)\n",
        "fig.suptitle('Model Comparison', fontsize=16, fontweight='bold')\n",
        "fig.set_figheight(7)\n",
        "fig.set_figwidth(14)\n",
        "fig.set_facecolor('white')\n",
        "\n",
        "# First plot\n",
        "## set bar size\n",
        "barWidth = 0.2\n",
        "dtc_score = [dtc_eval['acc'], dtc_eval['prec'], dtc_eval['rec'], dtc_eval['f1'], dtc_eval['kappa']]\n",
        "rf_score = [rf_eval['acc'], rf_eval['prec'], rf_eval['rec'], rf_eval['f1'], rf_eval['kappa']]\n",
        "nb_score = [nb_eval['acc'], nb_eval['prec'], nb_eval['rec'], nb_eval['f1'], nb_eval['kappa']]\n",
        "knn_score = [knn_eval['acc'], knn_eval['prec'], knn_eval['rec'], knn_eval['f1'], knn_eval['kappa']]\n",
        "\n",
        "## Set position of bar on X axis\n",
        "r1 = np.arange(len(dtc_score))\n",
        "r2 = [x + barWidth for x in r1]\n",
        "r3 = [x + barWidth for x in r2]\n",
        "r4 = [x + barWidth for x in r3]\n",
        "\n",
        "## Make the plot\n",
        "ax1.bar(r1, dtc_score, width=barWidth, edgecolor='white', label='Decision Tree')\n",
        "ax1.bar(r2, rf_score, width=barWidth, edgecolor='white', label='Random Forest')\n",
        "ax1.bar(r3, nb_score, width=barWidth, edgecolor='white', label='Naive Bayes')\n",
        "ax1.bar(r4, knn_score, width=barWidth, edgecolor='white', label='K-Nearest Neighbors')\n",
        "\n",
        "## Configure x and y axis\n",
        "ax1.set_xlabel('Metrics', fontweight='bold')\n",
        "labels = ['Accuracy', 'Precision', 'Recall', 'F1', 'Kappa']\n",
        "ax1.set_xticks([r + (barWidth * 1.5) for r in range(len(dtc_score))], )\n",
        "ax1.set_xticklabels(labels)\n",
        "ax1.set_ylabel('Score', fontweight='bold')\n",
        "ax1.set_ylim(0, 1)\n",
        "\n",
        "## Create legend & title\n",
        "ax1.set_title('Evaluation Metrics', fontsize=14, fontweight='bold')\n",
        "ax1.legend()\n",
        "\n",
        "# Second plot\n",
        "## Comparing ROC Curve\n",
        "ax2.plot(dtc_eval['fpr'], dtc_eval['tpr'], label='Decision Tree, auc = {:0.5f}'.format(dtc_eval['auc']))\n",
        "ax2.plot(rf_eval['fpr'], rf_eval['tpr'], label='Random Forest, auc = {:0.5f}'.format(rf_eval['auc']))\n",
        "ax2.plot(nb_eval['fpr'], nb_eval['tpr'], label='Naive Bayes, auc = {:0.5f}'.format(nb_eval['auc']))\n",
        "ax2.plot(knn_eval['fpr'], knn_eval['tpr'], label='K-Nearest Nieghbor, auc = {:0.5f}'.format(knn_eval['auc']))\n",
        "\n",
        "## Configure x and y axis\n",
        "ax2.set_xlabel('False Positive Rate', fontweight='bold')\n",
        "ax2.set_ylabel('True Positive Rate', fontweight='bold')\n",
        "\n",
        "## Create legend & title\n",
        "ax2.set_title('ROC Curve', fontsize=14, fontweight='bold')\n",
        "ax2.legend(loc=4)\n",
        "\n",
        "plt.show()"
      ],
      "execution_count": 100,
      "outputs": [
        {
          "output_type": "display_data",
          "data": {
            "text/plain": [
              "<Figure size 1400x700 with 2 Axes>"
            ],
            "image/png": "[encoded data removed]"
          },
          "metadata": {}
        }
      ]
    },
    {
      "cell_type": "markdown",
      "metadata": {
        "id": "ywNzSSUFBL0F"
      },
      "source": [
        "From the figures above we can see that our Random Forest model tops the other models in 5 of the 6 metrics we evaluate, except precision. So we can assume that Random Forest is the right choice to solve our problem."
      ]
    },
    {
      "cell_type": "markdown",
      "metadata": {
        "id": "ffBJzVwhJnES"
      },
      "source": [
        "# Model Optimisation\n",
        "\n",
        "On the next part of this notebook, we will try to optimise our RandomForest model by tuning the hyper parameters available from the scikit-learn library. After finding the optimal parameters we will then evaluate our new model by comparing it against our base line model before."
      ]
    },
    {
      "cell_type": "markdown",
      "metadata": {
        "id": "4ONqwVhnpvYe"
      },
      "source": [
        "## Tuning Hyperparameter with GridSearchCV\n",
        "\n",
        "We will use `GridSearchCV` functionality from sklearn to find the optimal parameter for our model. We will provide our baseline model (named `rf_grids`), scoring method (in our case we will use recall as explained before), and also various parameters value we want to try with our model. The `GridSearchCV` function will then iterate through each parameters combination to find the best scoring parameters.\n",
        "\n",
        "This function also allow us to use cross validation to train our model, where on each iteration our data will be divided into 5 (the number are adjustable from the parameter) fold. The models then will be trained on 4/5 fold of the data leaving the final fold as validation data, this process will be repeated for 5 times until all of our folds are used as validation data.\n",
        "\n",
        "<div align='center'><img src='https://i.imgur.com/9k60cVA.png' height='200'></div>\n",
        "\n",
        "To see the result of which parameters combination works best we can access the `best_params_` attribute from our grid search object.\n",
        "\n",
        "*Note: The more combination provided, the longer the process will take. Alternatively, you can also try `RandomizedSearchCV` to only randomly select specified number of parameters which can result in faster running time.*"
      ]
    },
    {
      "cell_type": "code",
      "metadata": {
        "id": "9JNuJ9SeWjsq",
        "colab": {
          "base_uri": "https://localhost:8080/"
        },
        "outputId": "d9215395-ad22-4665-8933-ca2e2ff1a0f3"
      },
      "source": [
        "from sklearn.model_selection import GridSearchCV\n",
        "\n",
        "# Create the parameter grid based on the results of random search\n",
        "param_grid = {\n",
        "    'max_depth': [50, 80, 100],\n",
        "    'max_features': [2, 3, 4],\n",
        "    'min_samples_leaf': [3, 4, 5],\n",
        "    'min_samples_split': [8, 10, 12],\n",
        "    'n_estimators': [100, 300, 500]\n",
        "}\n",
        "\n",
        "# Create a base model\n",
        "rf_grids = RandomForestClassifier(random_state=0)\n",
        "\n",
        "# Initiate the grid search model\n",
        "grid_search = GridSearchCV(estimator=rf_grids, param_grid=param_grid, scoring='recall',\n",
        "                           cv=5, n_jobs=-1, verbose=2)\n",
        "\n",
        "# Fit the grid search to the data\n",
        "grid_search.fit(X_train, y_train)\n",
        "\n",
        "grid_search.best_params_"
      ],
      "execution_count": 101,
      "outputs": [
        {
          "output_type": "stream",
          "name": "stdout",
          "text": [
            "Fitting 5 folds for each of 243 candidates, totalling 1215 fits\n"
          ]
        },
        {
          "output_type": "execute_result",
          "data": {
            "text/plain": [
              "{'max_depth': 50,\n",
              " 'max_features': 4,\n",
              " 'min_samples_leaf': 3,\n",
              " 'min_samples_split': 10,\n",
              " 'n_estimators': 300}"
            ]
          },
          "metadata": {},
          "execution_count": 101
        }
      ]
    },
    {
      "cell_type": "markdown",
      "metadata": {
        "id": "VtY5q3Dop_W_"
      },
      "source": [
        "## Evaluating Optimised Model\n",
        "\n",
        "After finding the best parameter for the model we can access the `best_estimator_` attribute of the GridSearchCV object to save our optimised model into variable called `best_grid`. We will calculate the 6 evaluation metrics using our helper function to compare it with our base model on the next step."
      ]
    },
    {
      "cell_type": "code",
      "metadata": {
        "id": "grO28FRSXvF4",
        "colab": {
          "base_uri": "https://localhost:8080/"
        },
        "outputId": "09ca891d-8881-4aaa-9f63-ff1059497902"
      },
      "source": [
        "# Select best model with best fit\n",
        "best_grid = grid_search.best_estimator_\n",
        "\n",
        "# Evaluate Model\n",
        "best_grid_eval = evaluate_model(best_grid, X_test, y_test)\n",
        "\n",
        "# Print result\n",
        "print('Accuracy:', best_grid_eval['acc'])\n",
        "print('Precision:', best_grid_eval['prec'])\n",
        "print('Recall:', best_grid_eval['rec'])\n",
        "print('F1 Score:', best_grid_eval['f1'])\n",
        "print('Cohens Kappa Score:', best_grid_eval['kappa'])\n",
        "print('Area Under Curve:', best_grid_eval['auc'])\n",
        "print('Confusion Matrix:\\n', best_grid_eval['cm'])"
      ],
      "execution_count": 102,
      "outputs": [
        {
          "output_type": "stream",
          "name": "stdout",
          "text": [
            "Accuracy: 0.7227944469323779\n",
            "Precision: 0.7682198327359617\n",
            "Recall: 0.6020599250936329\n",
            "F1 Score: 0.6750656167979002\n",
            "Cohens Kappa Score: 0.4394937131822648\n",
            "Area Under Curve: 0.7884883702239155\n",
            "Confusion Matrix:\n",
            " [[971 194]\n",
            " [425 643]]\n"
          ]
        }
      ]
    },
    {
      "cell_type": "markdown",
      "metadata": {
        "id": "cvwaI0ysqCDU"
      },
      "source": [
        "## Model Comparison\n",
        "\n",
        "The code below will draw the same plot as before only with our original Random Forest model and it's optimised version. It will also print the change on each evaluation metrics to help us see if our optimised model work better than the original one."
      ]
    },
    {
      "cell_type": "code",
      "metadata": {
        "id": "0zN6-vaASeXX",
        "colab": {
          "base_uri": "https://localhost:8080/",
          "height": 708
        },
        "outputId": "0634ccf7-c2bf-4e8d-f160-95e0aee62d60"
      },
      "source": [
        "# Intitialize figure with two plots\n",
        "fig, (ax1, ax2) = plt.subplots(1, 2)\n",
        "fig.suptitle('Model Comparison', fontsize=16, fontweight='bold')\n",
        "fig.set_figheight(7)\n",
        "fig.set_figwidth(14)\n",
        "fig.set_facecolor('white')\n",
        "\n",
        "# First plot\n",
        "## set bar size\n",
        "barWidth = 0.2\n",
        "rf_score = [rf_eval['acc'], rf_eval['prec'], rf_eval['rec'], rf_eval['f1'], rf_eval['kappa']]\n",
        "best_grid_score = [best_grid_eval['acc'], best_grid_eval['prec'], best_grid_eval['rec'], best_grid_eval['f1'], best_grid_eval['kappa']]\n",
        "\n",
        "## Set position of bar on X axis\n",
        "r1 = np.arange(len(rf_score))\n",
        "r2 = [x + barWidth for x in r1]\n",
        "\n",
        "## Make the plot\n",
        "ax1.bar(r1, rf_score, width=barWidth, edgecolor='white', label='Random Forest (Base Line)')\n",
        "ax1.bar(r2, best_grid_score, width=barWidth, edgecolor='white', label='Random Forest (Optimized)')\n",
        "\n",
        "## Add xticks on the middle of the group bars\n",
        "ax1.set_xlabel('Metrics', fontweight='bold')\n",
        "labels = ['Accuracy', 'Precision', 'Recall', 'F1', 'Kappa']\n",
        "ax1.set_xticks([r + (barWidth * 0.5) for r in range(len(dtc_score))], )\n",
        "ax1.set_xticklabels(labels)\n",
        "ax1.set_ylabel('Score', fontweight='bold')\n",
        "# ax1.set_ylim(0, 1)\n",
        "\n",
        "## Create legend & Show graphic\n",
        "ax1.set_title('Evaluation Metrics', fontsize=14, fontweight='bold')\n",
        "ax1.legend()\n",
        "\n",
        "# Second plot\n",
        "## Comparing ROC Curve\n",
        "ax2.plot(rf_eval['fpr'], rf_eval['tpr'], label='Random Forest, auc = {:0.5f}'.format(rf_eval['auc']))\n",
        "ax2.plot(best_grid_eval['fpr'], best_grid_eval['tpr'], label='Random Forest, auc = {:0.5f}'.format(best_grid_eval['auc']))\n",
        "\n",
        "ax2.set_title('ROC Curve', fontsize=14, fontweight='bold')\n",
        "ax2.set_xlabel('False Positive Rate', fontweight='bold')\n",
        "ax2.set_ylabel('True Positive Rate', fontweight='bold')\n",
        "ax2.legend(loc=4)\n",
        "\n",
        "plt.show()\n",
        "\n",
        "print('Change of {:0.2f}% on accuracy.'.format(100 * ((best_grid_eval['acc'] - rf_eval['acc']) / rf_eval['acc'])))\n",
        "print('Change of {:0.2f}% on precision.'.format(100 * ((best_grid_eval['prec'] - rf_eval['prec']) / rf_eval['prec'])))\n",
        "print('Change of {:0.2f}% on recall.'.format(100 * ((best_grid_eval['rec'] - rf_eval['rec']) / rf_eval['rec'])))\n",
        "print('Change of {:0.2f}% on F1 score.'.format(100 * ((best_grid_eval['f1'] - rf_eval['f1']) / rf_eval['f1'])))\n",
        "print('Change of {:0.2f}% on Kappa score.'.format(100 * ((best_grid_eval['kappa'] - rf_eval['kappa']) / rf_eval['kappa'])))\n",
        "print('Change of {:0.2f}% on AUC.'.format(100 * ((best_grid_eval['auc'] - rf_eval['auc']) / rf_eval['auc'])))"
      ],
      "execution_count": 103,
      "outputs": [
        {
          "output_type": "display_data",
          "data": {
            "text/plain": [
              "<Figure size 1400x700 with 2 Axes>"
            ],
            "image/png": "[encoded data removed]"
          },
          "metadata": {}
        },
        {
          "output_type": "stream",
          "name": "stdout",
          "text": [
            "Change of 0.25% on accuracy.\n",
            "Change of 2.39% on precision.\n",
            "Change of -3.60% on recall.\n",
            "Change of -0.97% on F1 score.\n",
            "Change of 0.57% on Kappa score.\n",
            "Change of 0.81% on AUC.\n"
          ]
        }
      ]
    },
    {
      "cell_type": "markdown",
      "metadata": {
        "id": "ZsG6BmdvVbo1"
      },
      "source": [
        "The result show that our optimised performed little bit better than the original model. The optimised models show an increase in 4 out of the 6 metrics but perform worse in the other metrics, especially the recall with -4.34% decrease. Because we want to focus on predicting as many actual positive values as possible we should stick with our original model for the prediction because it has higher recall score."
      ]
    },
    {
      "cell_type": "markdown",
      "metadata": {
        "id": "s06YlIWtrFCV"
      },
      "source": [
        "# Output\n",
        "\n",
        "We have our model, what's next? As a data scientist, it's crucial to focus on developing a model with good re-usability. In this final part, I will explain how to generate predictions based on new data and demonstrate the process of saving and loading your model using `joblib`. This way, you can utilize it in production or save it for later use, eliminating the need to repeat the entire model creation process."
      ]
    },
    {
      "cell_type": "markdown",
      "metadata": {
        "id": "e_7PbTssz6xs"
      },
      "source": [
        "## Prediction\n",
        "\n",
        "In this step we will predict the expected outcome of all the row from our dataset then save it into a csv file for easier access in the future."
      ]
    },
    {
      "cell_type": "code",
      "source": [
        "data = [59, 'admin.', 'married', 'secondary', 'no', 2343, 'yes', 'no', 'unknown', 5, 'may', 1, -1, 0, 'unknown']\n",
        "columns = ['age', 'job', 'marital', 'education', 'default', 'balance', 'housing',\n",
        "       'loan', 'contact', 'day', 'month', 'campaign', 'pdays', 'previous',\n",
        "       'poutcome']\n",
        "\n",
        "new_data = pd.DataFrame([data], columns=columns)"
      ],
      "metadata": {
        "id": "MtGok2ECadoj"
      },
      "execution_count": 104,
      "outputs": []
    },
    {
      "cell_type": "code",
      "source": [
        "new_data"
      ],
      "metadata": {
        "colab": {
          "base_uri": "https://localhost:8080/",
          "height": 144
        },
        "id": "_A1xF43qGOwA",
        "outputId": "8cd7d2bd-de92-4033-d7c3-d08c9ce848b3"
      },
      "execution_count": 105,
      "outputs": [
        {
          "output_type": "execute_result",
          "data": {
            "text/plain": [
              "   age     job  marital  education default  balance housing loan  contact  \\\n",
              "0   59  admin.  married  secondary      no     2343     yes   no  unknown   \n",
              "\n",
              "   day month  campaign  pdays  previous poutcome  \n",
              "0    5   may         1     -1         0  unknown  "
            ],
            "text/html": [
              "\n",
              "  <div id=\"df-dcde4b89-eef7-49d5-9829-3e3b7df5bb9f\">\n",
              "    <div class=\"colab-df-container\">\n",
              "      <div>\n",
              "<style scoped>\n",
              "    .dataframe tbody tr th:only-of-type {\n",
              "        vertical-align: middle;\n",
              "    }\n",
              "\n",
              "    .dataframe tbody tr th {\n",
              "        vertical-align: top;\n",
              "    }\n",
              "\n",
              "    .dataframe thead th {\n",
              "        text-align: right;\n",
              "    }\n",
              "</style>\n",
              "<table border=\"1\" class=\"dataframe\">\n",
              "  <thead>\n",
              "    <tr style=\"text-align: right;\">\n",
              "      <th></th>\n",
              "      <th>age</th>\n",
              "      <th>job</th>\n",
              "      <th>marital</th>\n",
              "      <th>education</th>\n",
              "      <th>default</th>\n",
              "      <th>balance</th>\n",
              "      <th>housing</th>\n",
              "      <th>loan</th>\n",
              "      <th>contact</th>\n",
              "      <th>day</th>\n",
              "      <th>month</th>\n",
              "      <th>campaign</th>\n",
              "      <th>pdays</th>\n",
              "      <th>previous</th>\n",
              "      <th>poutcome</th>\n",
              "    </tr>\n",
              "  </thead>\n",
              "  <tbody>\n",
              "    <tr>\n",
              "      <th>0</th>\n",
              "      <td>59</td>\n",
              "      <td>admin.</td>\n",
              "      <td>married</td>\n",
              "      <td>secondary</td>\n",
              "      <td>no</td>\n",
              "      <td>2343</td>\n",
              "      <td>yes</td>\n",
              "      <td>no</td>\n",
              "      <td>unknown</td>\n",
              "      <td>5</td>\n",
              "      <td>may</td>\n",
              "      <td>1</td>\n",
              "      <td>-1</td>\n",
              "      <td>0</td>\n",
              "      <td>unknown</td>\n",
              "    </tr>\n",
              "  </tbody>\n",
              "</table>\n",
              "</div>\n",
              "      <button class=\"colab-df-convert\" onclick=\"convertToInteractive('df-dcde4b89-eef7-49d5-9829-3e3b7df5bb9f')\"\n",
              "              title=\"Convert this dataframe to an interactive table.\"\n",
              "              style=\"display:none;\">\n",
              "        \n",
              "  <svg xmlns=\"http://www.w3.org/2000/svg\" height=\"24px\"viewBox=\"0 0 24 24\"\n",
              "       width=\"24px\">\n",
              "    <path d=\"M0 0h24v24H0V0z\" fill=\"none\"/>\n",
              "    <path d=\"M18.56 5.44l.94 2.06.94-2.06 2.06-.94-2.06-.94-.94-2.06-.94 2.06-2.06.94zm-11 1L8.5 8.5l.94-2.06 2.06-.94-2.06-.94L8.5 2.5l-.94 2.06-2.06.94zm10 10l.94 2.06.94-2.06 2.06-.94-2.06-.94-.94-2.06-.94 2.06-2.06.94z\"/><path d=\"M17.41 7.96l-1.37-1.37c-.4-.4-.92-.59-1.43-.59-.52 0-1.04.2-1.43.59L10.3 9.45l-7.72 7.72c-.78.78-.78 2.05 0 2.83L4 21.41c.39.39.9.59 1.41.59.51 0 1.02-.2 1.41-.59l7.78-7.78 2.81-2.81c.8-.78.8-2.07 0-2.86zM5.41 20L4 18.59l7.72-7.72 1.47 1.35L5.41 20z\"/>\n",
              "  </svg>\n",
              "      </button>\n",
              "      \n",
              "  <style>\n",
              "    .colab-df-container {\n",
              "      display:flex;\n",
              "      flex-wrap:wrap;\n",
              "      gap: 12px;\n",
              "    }\n",
              "\n",
              "    .colab-df-convert {\n",
              "      background-color: #E8F0FE;\n",
              "      border: none;\n",
              "      border-radius: 50%;\n",
              "      cursor: pointer;\n",
              "      display: none;\n",
              "      fill: #1967D2;\n",
              "      height: 32px;\n",
              "      padding: 0 0 0 0;\n",
              "      width: 32px;\n",
              "    }\n",
              "\n",
              "    .colab-df-convert:hover {\n",
              "      background-color: #E2EBFA;\n",
              "      box-shadow: 0px 1px 2px rgba(60, 64, 67, 0.3), 0px 1px 3px 1px rgba(60, 64, 67, 0.15);\n",
              "      fill: #174EA6;\n",
              "    }\n",
              "\n",
              "    [theme=dark] .colab-df-convert {\n",
              "      background-color: #3B4455;\n",
              "      fill: #D2E3FC;\n",
              "    }\n",
              "\n",
              "    [theme=dark] .colab-df-convert:hover {\n",
              "      background-color: #434B5C;\n",
              "      box-shadow: 0px 1px 3px 1px rgba(0, 0, 0, 0.15);\n",
              "      filter: drop-shadow(0px 1px 2px rgba(0, 0, 0, 0.3));\n",
              "      fill: #FFFFFF;\n",
              "    }\n",
              "  </style>\n",
              "\n",
              "      <script>\n",
              "        const buttonEl =\n",
              "          document.querySelector('#df-dcde4b89-eef7-49d5-9829-3e3b7df5bb9f button.colab-df-convert');\n",
              "        buttonEl.style.display =\n",
              "          google.colab.kernel.accessAllowed ? 'block' : 'none';\n",
              "\n",
              "        async function convertToInteractive(key) {\n",
              "          const element = document.querySelector('#df-dcde4b89-eef7-49d5-9829-3e3b7df5bb9f');\n",
              "          const dataTable =\n",
              "            await google.colab.kernel.invokeFunction('convertToInteractive',\n",
              "                                                     [key], {});\n",
              "          if (!dataTable) return;\n",
              "\n",
              "          const docLinkHtml = 'Like what you see? Visit the ' +\n",
              "            '<a target=\"_blank\" href=https://colab.research.google.com/notebooks/data_table.ipynb>data table notebook</a>'\n",
              "            + ' to learn more about interactive tables.';\n",
              "          element.innerHTML = '';\n",
              "          dataTable['output_type'] = 'display_data';\n",
              "          await google.colab.output.renderOutput(dataTable, element);\n",
              "          const docLink = document.createElement('div');\n",
              "          docLink.innerHTML = docLinkHtml;\n",
              "          element.appendChild(docLink);\n",
              "        }\n",
              "      </script>\n",
              "    </div>\n",
              "  </div>\n",
              "  "
            ]
          },
          "metadata": {},
          "execution_count": 105
        }
      ]
    },
    {
      "cell_type": "markdown",
      "source": [
        "Preprocess the new data using the same preprocessing steps as before"
      ],
      "metadata": {
        "id": "-ESbC5ZWbKrg"
      }
    },
    {
      "cell_type": "code",
      "source": [
        "X_new_encoded = pd.DataFrame(ct.transform(new_data))"
      ],
      "metadata": {
        "id": "ioP0p6_8auDY"
      },
      "execution_count": 106,
      "outputs": []
    },
    {
      "cell_type": "markdown",
      "source": [
        " Make predictions using your trained random forest classifier:"
      ],
      "metadata": {
        "id": "_sLfvQI_bM8g"
      }
    },
    {
      "cell_type": "code",
      "source": [
        "y_new_pred = rf.predict(X_new_encoded)"
      ],
      "metadata": {
        "id": "Jb0IVKGCa96t"
      },
      "execution_count": 107,
      "outputs": []
    },
    {
      "cell_type": "markdown",
      "source": [
        "Interpret the predictions based on the classes used during training. If your model was trained on binary classification with classes 0 and 1, you can map the predictions back to meaningful labels or interpretations:"
      ],
      "metadata": {
        "id": "UbM8pcrJbbYD"
      }
    },
    {
      "cell_type": "code",
      "source": [
        "prediction_labels = label_encoder.inverse_transform(y_new_pred)\n",
        "print(f\"Predicted Labels: {prediction_labels}\")"
      ],
      "metadata": {
        "colab": {
          "base_uri": "https://localhost:8080/"
        },
        "id": "og5L-Wt7bV2C",
        "outputId": "e2a93573-abed-4fb6-e120-cad1a23798d0"
      },
      "execution_count": 108,
      "outputs": [
        {
          "output_type": "stream",
          "name": "stdout",
          "text": [
            "Predicted Labels: ['yes']\n"
          ]
        }
      ]
    },
    {
      "cell_type": "code",
      "source": [
        "HOME = \"/content/drive/MyDrive/FlaskClassificationApp\"\n",
        "%cd {HOME}"
      ],
      "metadata": {
        "id": "LjZ3M6oM-1cj",
        "colab": {
          "base_uri": "https://localhost:8080/"
        },
        "outputId": "28360782-eaa5-41f5-99d2-d3849b0c06a7"
      },
      "execution_count": 109,
      "outputs": [
        {
          "output_type": "stream",
          "name": "stdout",
          "text": [
            "/content/drive/MyDrive/FlaskClassificationApp\n"
          ]
        }
      ]
    },
    {
      "cell_type": "markdown",
      "metadata": {
        "id": "PKPXhoO2z9Yl"
      },
      "source": [
        "## Saving model\n",
        "\n",
        "We can also save our model for further model reusability. This model can then be loaded on another machine to make new prediction without doing the whole training process again."
      ]
    },
    {
      "cell_type": "code",
      "metadata": {
        "id": "pcr1pF4kz-s-",
        "colab": {
          "base_uri": "https://localhost:8080/"
        },
        "outputId": "8102834f-81e1-40fd-b93c-be314b95df2e"
      },
      "source": [
        "from joblib import dump, load\n",
        "\n",
        "# Saving model\n",
        "dump(rf, 'bank_deposit_classification.joblib')\n",
        "\n",
        "# Loading model\n",
        "# clf = load('bank_deposit_classification.joblib')"
      ],
      "execution_count": 110,
      "outputs": [
        {
          "output_type": "execute_result",
          "data": {
            "text/plain": [
              "['bank_deposit_classification.joblib']"
            ]
          },
          "metadata": {},
          "execution_count": 110
        }
      ]
    },
    {
      "cell_type": "markdown",
      "source": [
        "Preprocessing Components: Save the necessary preprocessing components to ensure consistency between your training and deployment environments. This includes the `ColumnTransformer` and the `LabelEncoder`. You can save these preprocessing components using the joblib library in a similar way as the model:"
      ],
      "metadata": {
        "id": "A6RFXQhHb4Uv"
      }
    },
    {
      "cell_type": "code",
      "source": [
        "# Save the ColumnTransformer\n",
        "dump(ct, 'column_transformer.joblib')\n",
        "\n",
        "# Save the LabelEncoder\n",
        "dump(label_encoder, 'label_encoder.joblib')"
      ],
      "metadata": {
        "colab": {
          "base_uri": "https://localhost:8080/"
        },
        "id": "_Ge715v0cB5h",
        "outputId": "c04ff5d2-efeb-405b-f7f5-1830f04d7605"
      },
      "execution_count": 112,
      "outputs": [
        {
          "output_type": "execute_result",
          "data": {
            "text/plain": [
              "['label_encoder.joblib']"
            ]
          },
          "metadata": {},
          "execution_count": 112
        }
      ]
    },
    {
      "cell_type": "markdown",
      "source": [
        "Later, you can load these preprocessing components to preprocess the incoming data:"
      ],
      "metadata": {
        "id": "tKfffSfNcHLG"
      }
    },
    {
      "cell_type": "code",
      "source": [
        "# Load the ColumnTransformer\n",
        "ct = load('column_transformer.joblib')\n",
        "\n",
        "# Load the LabelEncoder\n",
        "label_encoder = load('label_encoder.joblib')"
      ],
      "metadata": {
        "id": "Na9UH4MTcGAp"
      },
      "execution_count": 113,
      "outputs": []
    },
    {
      "cell_type": "markdown",
      "metadata": {
        "id": "6f0M9vY6sh5C"
      },
      "source": [
        "# Conclusion\n",
        "\n",
        "# Model Evaluation and Improvement\n",
        "\n",
        "After examining our simple model, we can observe that it performed reasonably well in classifying the data. However, there are still some weaknesses, particularly highlighted in the recall metric, where we achieved only approximately 60%. This implies that our model can only identify 60% of potential customers, missing out on the remaining 40%. Furthermore, optimizing the model using `GridSearchCV` did not yield significantly different results, indicating that we may have reached the limitations of this particular model.\n",
        "\n",
        "In order to enhance our performance, we should consider exploring alternative algorithms, such as the `GradientBoostingClassifier`. By employing this algorithm, we may be able to overcome the limitations of our current model and improve its predictive capabilities.\n",
        "\n",
        "\n",
        "# References\n",
        "\n",
        "1. Telkom Digital Talent Incubator - Data Scientist Module 5 (Classification)\n",
        "2. [Scikit-learn Documentation](https://scikit-learn.org/stable/index.html)\n",
        "3. [The 5 Classification Evaluation metrics every Data Scientist must know](https://towardsdatascience.com/the-5-classification-evaluation-metrics-you-must-know-aa97784ff226)\n",
        "4. [The Python Graph Gallery - Grouped Bar Plot](https://python-graph-gallery.com/11-grouped-barplot/)\n",
        "5. [Building Classification Model with Python](https://medium.com/analytics-vidhya/building-classification-model-with-python-9bdfc13faa4b)"
      ]
    }
  ]
}